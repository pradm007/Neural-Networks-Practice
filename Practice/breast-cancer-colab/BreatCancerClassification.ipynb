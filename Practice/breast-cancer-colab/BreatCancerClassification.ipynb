{
 "cells": [
  {
   "cell_type": "code",
   "execution_count": 11,
   "metadata": {},
   "outputs": [],
   "source": [
    "import pandas as pd\n",
    "\n",
    "x_train = pd.read_csv(\"xtrain.csv\", header=None)\n",
    "y_train = pd.read_csv(\"ytrain.csv\", header=None)\n",
    "x_test = pd.read_csv(\"xtest.csv\", header=None)\n",
    "y_test = pd.read_csv(\"ytest.csv\", header=None)"
   ]
  },
  {
   "cell_type": "code",
   "execution_count": 12,
   "metadata": {},
   "outputs": [],
   "source": [
    "from keras.models import Sequential\n",
    "from keras.layers import Dense\n",
    "\n",
    "classifier = Sequential()\n",
    "classifier.add(Dense(units = 16, activation = 'relu', input_dim = 30))\n",
    "classifier.add(Dense(units = 500, activation = 'relu'))\n",
    "classifier.add(Dense(units = 300, activation = 'relu'))\n",
    "classifier.add(Dense(units = 100, activation = 'relu'))\n",
    "classifier.add(Dense(units = 1, activation = 'sigmoid'))"
   ]
  },
  {
   "cell_type": "code",
   "execution_count": 13,
   "metadata": {},
   "outputs": [],
   "source": [
    "classifier.compile(optimizer = 'rmsprop', loss = 'binary_crossentropy')"
   ]
  },
  {
   "cell_type": "code",
   "execution_count": 14,
   "metadata": {},
   "outputs": [
    {
     "name": "stdout",
     "output_type": "stream",
     "text": [
      "Epoch 1/11\n",
      "455/455 [==============================] - 2s 5ms/step - loss: 0.2197\n",
      "Epoch 2/11\n",
      "455/455 [==============================] - 2s 4ms/step - loss: 0.1878\n",
      "Epoch 3/11\n",
      "455/455 [==============================] - 2s 4ms/step - loss: 0.1031\n",
      "Epoch 4/11\n",
      "455/455 [==============================] - 2s 4ms/step - loss: 0.3337\n",
      "Epoch 5/11\n",
      "455/455 [==============================] - 2s 4ms/step - loss: 0.1493\n",
      "Epoch 6/11\n",
      "455/455 [==============================] - 2s 4ms/step - loss: 0.2090\n",
      "Epoch 7/11\n",
      "455/455 [==============================] - 2s 4ms/step - loss: 0.2118\n",
      "Epoch 8/11\n",
      "455/455 [==============================] - 2s 4ms/step - loss: 0.2381\n",
      "Epoch 9/11\n",
      "455/455 [==============================] - 2s 4ms/step - loss: 0.2118\n",
      "Epoch 10/11\n",
      "455/455 [==============================] - 2s 4ms/step - loss: 0.2118\n",
      "Epoch 11/11\n",
      "455/455 [==============================] - 2s 4ms/step - loss: 0.2118\n"
     ]
    },
    {
     "data": {
      "text/plain": [
       "<keras.callbacks.History at 0x7f02e80c36a0>"
      ]
     },
     "execution_count": 14,
     "metadata": {},
     "output_type": "execute_result"
    }
   ],
   "source": [
    "classifier.fit(x_train, y_train, batch_size = 1, epochs = 11)"
   ]
  },
  {
   "cell_type": "code",
   "execution_count": 15,
   "metadata": {},
   "outputs": [],
   "source": [
    "y_predict = classifier.predict(x_test)"
   ]
  },
  {
   "cell_type": "code",
   "execution_count": 16,
   "metadata": {},
   "outputs": [],
   "source": [
    "y_predict = [1 if y>= 0.5 else 0 for y in y_predict]"
   ]
  },
  {
   "cell_type": "code",
   "execution_count": 17,
   "metadata": {},
   "outputs": [
    {
     "name": "stdout",
     "output_type": "stream",
     "text": [
      "Total 114\n",
      "Correct 110\n",
      "Wrong 4\n"
     ]
    }
   ],
   "source": [
    "total  = 0\n",
    "correct = 0\n",
    "wrong = 0\n",
    "for i in range(len(y_predict)):\n",
    "    total = total + 1\n",
    "    if(y_test.at[i, 0] == y_predict[i]):\n",
    "        correct = correct + 1\n",
    "    else:\n",
    "        wrong = wrong + 1\n",
    "        \n",
    "print('Total '+ str(total))\n",
    "print('Correct '+str(correct))\n",
    "print('Wrong '+str(wrong))"
   ]
  },
  {
   "cell_type": "code",
   "execution_count": null,
   "metadata": {},
   "outputs": [],
   "source": []
  }
 ],
 "metadata": {
  "kernelspec": {
   "display_name": "Python 3",
   "language": "python",
   "name": "python3"
  },
  "language_info": {
   "codemirror_mode": {
    "name": "ipython",
    "version": 3
   },
   "file_extension": ".py",
   "mimetype": "text/x-python",
   "name": "python",
   "nbconvert_exporter": "python",
   "pygments_lexer": "ipython3",
   "version": "3.7.3"
  }
 },
 "nbformat": 4,
 "nbformat_minor": 2
}