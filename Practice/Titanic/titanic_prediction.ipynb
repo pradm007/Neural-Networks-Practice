{
 "cells": [
  {
   "cell_type": "code",
   "execution_count": 36,
   "metadata": {},
   "outputs": [],
   "source": [
    "import pandas as pd\n",
    "full_train_data = pd.read_csv(\"/home/jovyan/Titanic/train.csv\")\n",
    "test = pd.read_csv(\"/home/jovyan/Titanic/test.csv\")"
   ]
  },
  {
   "cell_type": "code",
   "execution_count": 171,
   "metadata": {},
   "outputs": [],
   "source": [
    "train_x = full_train_data[[\"PassengerId\",\"Pclass\",\"Age\",\"SibSp\",\"Parch\",\"Fare\"]][0:]\n",
    "train_y = full_train_data[\"Survived\"][0:]\n",
    "\n",
    "train_x = train_x.fillna(0).values\n",
    "train_y = train_y.fillna(0).values\n",
    "\n",
    "# train_x\n",
    "# train_y"
   ]
  },
  {
   "cell_type": "code",
   "execution_count": 221,
   "metadata": {},
   "outputs": [],
   "source": [
    "from keras.models import Sequential\n",
    "from keras.layers import Dense, Activation\n",
    "\n",
    "classifier = Sequential()\n",
    "classifier.add(Dense(units = 64, activation = 'relu', input_dim = train_x.shape[1]))\n",
    "classifier.add(Dense(units = 10, activation = 'selu'))\n",
    "# classifier.add(Dense(units = 16, activation = 'relu'))\n",
    "classifier.add(Dense(units = 1, activation = 'sigmoid'))\n",
    "# classifier.add(Dense(units = 1, activation = 'softmax'))\n",
    "classifier.compile(optimizer = 'rmsprop', loss = 'binary_crossentropy')\n",
    "\n",
    "# classifier.add(Dense(32))\n",
    "# classifier.add(Activation('relu'))\n",
    "# classifier.add(Dense(1))\n",
    "# classifier.add(Activation('softmax'))\n",
    "# classifier.compile(loss='mean_squared_error', optimizer='sgd')"
   ]
  },
  {
   "cell_type": "code",
   "execution_count": 222,
   "metadata": {},
   "outputs": [
    {
     "name": "stdout",
     "output_type": "stream",
     "text": "Epoch 1/10\n891/891 [==============================] - 2s 3ms/step - loss: 3.5529\nEpoch 2/10\n891/891 [==============================] - 0s 538us/step - loss: 1.7731\nEpoch 3/10\n891/891 [==============================] - 0s 552us/step - loss: 1.5799\nEpoch 4/10\n891/891 [==============================] - 0s 548us/step - loss: 1.4627\nEpoch 5/10\n891/891 [==============================] - 1s 571us/step - loss: 1.4122\nEpoch 6/10\n891/891 [==============================] - 0s 553us/step - loss: 1.3122\nEpoch 7/10\n891/891 [==============================] - 0s 553us/step - loss: 1.3446\nEpoch 8/10\n891/891 [==============================] - 0s 558us/step - loss: 1.2198\nEpoch 9/10\n891/891 [==============================] - 1s 583us/step - loss: 1.0632\nEpoch 10/10\n891/891 [==============================] - 0s 547us/step - loss: 1.0364\n"
    },
    {
     "data": {
      "text/plain": "<keras.callbacks.History at 0x7f7b78e2c048>"
     },
     "execution_count": 222,
     "metadata": {},
     "output_type": "execute_result"
    }
   ],
   "source": [
    "classifier.fit(train_x, train_y, batch_size = 5,epochs = 10)"
   ]
  },
  {
   "cell_type": "code",
   "execution_count": 223,
   "metadata": {},
   "outputs": [],
   "source": [
    "test_x = test[[\"PassengerId\",\"Pclass\",\"Age\",\"SibSp\",\"Parch\",\"Fare\"]][0:10]\n",
    "\n",
    "test_x = test_x.fillna(0).values"
   ]
  },
  {
   "cell_type": "code",
   "execution_count": 227,
   "metadata": {},
   "outputs": [],
   "source": [
    "y_predict = classifier.predict(test_x)"
   ]
  },
  {
   "cell_type": "code",
   "execution_count": 229,
   "metadata": {},
   "outputs": [
    {
     "data": {
      "text/plain": "[0, 0, 0, 0, 0, 1, 0, 1, 1, 1]"
     },
     "execution_count": 229,
     "metadata": {},
     "output_type": "execute_result"
    }
   ],
   "source": [
    "y_predict = [1 if y>= 0.9 else 0 for y in y_predict]\n",
    "y_predict"
   ]
  },
  {
   "cell_type": "code",
   "execution_count": null,
   "metadata": {},
   "outputs": [],
   "source": []
  }
 ],
 "metadata": {
  "file_extension": ".py",
  "kernelspec": {
   "display_name": "Python 3",
   "language": "python",
   "name": "python3"
  },
  "language_info": {
   "codemirror_mode": {
    "name": "ipython",
    "version": 3
   },
   "file_extension": ".py",
   "mimetype": "text/x-python",
   "name": "python",
   "nbconvert_exporter": "python",
   "pygments_lexer": "ipython3",
   "version": "3.7.3"
  },
  "mimetype": "text/x-python",
  "name": "python",
  "npconvert_exporter": "python",
  "pygments_lexer": "ipython3",
  "version": 3
 },
 "nbformat": 4,
 "nbformat_minor": 2
}