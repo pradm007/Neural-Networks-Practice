{
 "cells": [
  {
   "cell_type": "code",
   "execution_count": 1,
   "metadata": {},
   "outputs": [],
   "source": [
    "import numpy\n",
    "\n",
    "import pandas as pd\n",
    "full_train_data = pd.read_csv(\"/home/jovyan/Titanic/train.csv\")\n",
    "test = pd.read_csv(\"/home/jovyan/Titanic/test.csv\")"
   ]
  },
  {
   "cell_type": "code",
   "execution_count": 9,
   "metadata": {},
   "outputs": [
    {
     "data": {
      "text/plain": [
       "array([[  1.    ,   3.    ,  22.    ,   1.    ,   0.    ,   7.25  ],\n",
       "       [  2.    ,   1.    ,  38.    ,   1.    ,   0.    ,  71.2833],\n",
       "       [  3.    ,   3.    ,  26.    ,   0.    ,   0.    ,   7.925 ],\n",
       "       ...,\n",
       "       [889.    ,   3.    ,   0.    ,   1.    ,   2.    ,  23.45  ],\n",
       "       [890.    ,   1.    ,  26.    ,   0.    ,   0.    ,  30.    ],\n",
       "       [891.    ,   3.    ,  32.    ,   0.    ,   0.    ,   7.75  ]])"
      ]
     },
     "execution_count": 9,
     "metadata": {},
     "output_type": "execute_result"
    }
   ],
   "source": [
    "train_x = full_train_data[[\"PassengerId\",\"Pclass\",\"Age\",\"SibSp\",\"Parch\",\"Fare\"]][0:]\n",
    "train_y = full_train_data[\"Survived\"][0:]\n",
    "\n",
    "train_x = train_x.fillna(0).values\n",
    "train_y = train_y.fillna(0).values\n",
    "\n",
    "# train_x\n",
    "# train_y"
   ]
  },
  {
   "cell_type": "code",
   "execution_count": 3,
   "metadata": {},
   "outputs": [
    {
     "name": "stderr",
     "output_type": "stream",
     "text": [
      "Using TensorFlow backend.\n",
      "/opt/conda/lib/python3.7/site-packages/tensorflow/python/framework/dtypes.py:526: FutureWarning: Passing (type, 1) or '1type' as a synonym of type is deprecated; in a future version of numpy, it will be understood as (type, (1,)) / '(1,)type'.\n",
      "  _np_qint8 = np.dtype([(\"qint8\", np.int8, 1)])\n",
      "/opt/conda/lib/python3.7/site-packages/tensorflow/python/framework/dtypes.py:527: FutureWarning: Passing (type, 1) or '1type' as a synonym of type is deprecated; in a future version of numpy, it will be understood as (type, (1,)) / '(1,)type'.\n",
      "  _np_quint8 = np.dtype([(\"quint8\", np.uint8, 1)])\n",
      "/opt/conda/lib/python3.7/site-packages/tensorflow/python/framework/dtypes.py:528: FutureWarning: Passing (type, 1) or '1type' as a synonym of type is deprecated; in a future version of numpy, it will be understood as (type, (1,)) / '(1,)type'.\n",
      "  _np_qint16 = np.dtype([(\"qint16\", np.int16, 1)])\n",
      "/opt/conda/lib/python3.7/site-packages/tensorflow/python/framework/dtypes.py:529: FutureWarning: Passing (type, 1) or '1type' as a synonym of type is deprecated; in a future version of numpy, it will be understood as (type, (1,)) / '(1,)type'.\n",
      "  _np_quint16 = np.dtype([(\"quint16\", np.uint16, 1)])\n",
      "/opt/conda/lib/python3.7/site-packages/tensorflow/python/framework/dtypes.py:530: FutureWarning: Passing (type, 1) or '1type' as a synonym of type is deprecated; in a future version of numpy, it will be understood as (type, (1,)) / '(1,)type'.\n",
      "  _np_qint32 = np.dtype([(\"qint32\", np.int32, 1)])\n",
      "/opt/conda/lib/python3.7/site-packages/tensorflow/python/framework/dtypes.py:535: FutureWarning: Passing (type, 1) or '1type' as a synonym of type is deprecated; in a future version of numpy, it will be understood as (type, (1,)) / '(1,)type'.\n",
      "  np_resource = np.dtype([(\"resource\", np.ubyte, 1)])\n"
     ]
    },
    {
     "name": "stdout",
     "output_type": "stream",
     "text": [
      "WARNING:tensorflow:From /opt/conda/lib/python3.7/site-packages/tensorflow/python/framework/op_def_library.py:263: colocate_with (from tensorflow.python.framework.ops) is deprecated and will be removed in a future version.\n",
      "Instructions for updating:\n",
      "Colocations handled automatically by placer.\n"
     ]
    }
   ],
   "source": [
    "from keras.models import Sequential\n",
    "from keras.layers import Dense, Activation\n",
    "\n",
    "classifier = Sequential()\n",
    "classifier.add(Dense(units = 64, activation = 'relu', input_dim = train_x.shape[1]))\n",
    "classifier.add(Dense(units = 128, activation = 'relu'))\n",
    "classifier.add(Dense(units = 256, activation = 'relu'))\n",
    "classifier.add(Dense(units = 64, activation = 'relu'))\n",
    "\n",
    "classifier.add(Dense(units = 32, activation = 'relu'))\n",
    "classifier.add(Dense(units = 16, activation = 'tanh'))\n",
    "# classifier.add(Dense(units = 1, activation = 'softmax'))\n",
    "classifier.add(Dense(units = 1, activation = 'sigmoid'))\n",
    "classifier.compile(optimizer = 'rmsprop', loss = 'binary_crossentropy')"
   ]
  },
  {
   "cell_type": "code",
   "execution_count": 4,
   "metadata": {},
   "outputs": [
    {
     "name": "stdout",
     "output_type": "stream",
     "text": [
      "WARNING:tensorflow:From /opt/conda/lib/python3.7/site-packages/tensorflow/python/ops/math_ops.py:3066: to_int32 (from tensorflow.python.ops.math_ops) is deprecated and will be removed in a future version.\n",
      "Instructions for updating:\n",
      "Use tf.cast instead.\n",
      "Epoch 1/40\n",
      "891/891 [==============================] - 1s 607us/step - loss: 0.8349\n",
      "Epoch 2/40\n",
      "891/891 [==============================] - 0s 44us/step - loss: 0.6680\n",
      "Epoch 3/40\n",
      "891/891 [==============================] - 0s 48us/step - loss: 0.6698\n",
      "Epoch 4/40\n",
      "891/891 [==============================] - 0s 48us/step - loss: 0.6672\n",
      "Epoch 5/40\n",
      "891/891 [==============================] - 0s 46us/step - loss: 0.6669\n",
      "Epoch 6/40\n",
      "891/891 [==============================] - 0s 50us/step - loss: 0.6730\n",
      "Epoch 7/40\n",
      "891/891 [==============================] - 0s 52us/step - loss: 0.6711\n",
      "Epoch 8/40\n",
      "891/891 [==============================] - 0s 47us/step - loss: 0.6720\n",
      "Epoch 9/40\n",
      "891/891 [==============================] - 0s 47us/step - loss: 0.6680\n",
      "Epoch 10/40\n",
      "891/891 [==============================] - 0s 42us/step - loss: 0.6737\n",
      "Epoch 11/40\n",
      "891/891 [==============================] - 0s 46us/step - loss: 0.6659\n",
      "Epoch 12/40\n",
      "891/891 [==============================] - 0s 47us/step - loss: 0.6815\n",
      "Epoch 13/40\n",
      "891/891 [==============================] - 0s 48us/step - loss: 0.6675\n",
      "Epoch 14/40\n",
      "891/891 [==============================] - 0s 46us/step - loss: 0.6656\n",
      "Epoch 15/40\n",
      "891/891 [==============================] - 0s 50us/step - loss: 0.6740\n",
      "Epoch 16/40\n",
      "891/891 [==============================] - 0s 47us/step - loss: 0.6675\n",
      "Epoch 17/40\n",
      "891/891 [==============================] - 0s 48us/step - loss: 0.6670\n",
      "Epoch 18/40\n",
      "891/891 [==============================] - 0s 52us/step - loss: 0.6660\n",
      "Epoch 19/40\n",
      "891/891 [==============================] - 0s 42us/step - loss: 0.6664\n",
      "Epoch 20/40\n",
      "891/891 [==============================] - 0s 47us/step - loss: 0.6657\n",
      "Epoch 21/40\n",
      "891/891 [==============================] - 0s 46us/step - loss: 0.6663\n",
      "Epoch 22/40\n",
      "891/891 [==============================] - 0s 42us/step - loss: 0.6751\n",
      "Epoch 23/40\n",
      "891/891 [==============================] - 0s 41us/step - loss: 0.6702\n",
      "Epoch 24/40\n",
      "891/891 [==============================] - 0s 42us/step - loss: 0.6594\n",
      "Epoch 25/40\n",
      "891/891 [==============================] - 0s 45us/step - loss: 0.6665\n",
      "Epoch 26/40\n",
      "891/891 [==============================] - 0s 41us/step - loss: 0.6651\n",
      "Epoch 27/40\n",
      "891/891 [==============================] - 0s 49us/step - loss: 0.6654\n",
      "Epoch 28/40\n",
      "891/891 [==============================] - 0s 41us/step - loss: 0.6669\n",
      "Epoch 29/40\n",
      "891/891 [==============================] - 0s 45us/step - loss: 0.6717\n",
      "Epoch 30/40\n",
      "891/891 [==============================] - 0s 44us/step - loss: 0.6639\n",
      "Epoch 31/40\n",
      "891/891 [==============================] - 0s 45us/step - loss: 0.6653\n",
      "Epoch 32/40\n",
      "891/891 [==============================] - 0s 46us/step - loss: 0.6648\n",
      "Epoch 33/40\n",
      "891/891 [==============================] - 0s 48us/step - loss: 0.6636\n",
      "Epoch 34/40\n",
      "891/891 [==============================] - 0s 47us/step - loss: 0.6655\n",
      "Epoch 35/40\n",
      "891/891 [==============================] - 0s 47us/step - loss: 0.6639\n",
      "Epoch 36/40\n",
      "891/891 [==============================] - 0s 47us/step - loss: 0.6647\n",
      "Epoch 37/40\n",
      "891/891 [==============================] - 0s 50us/step - loss: 0.6686\n",
      "Epoch 38/40\n",
      "891/891 [==============================] - 0s 48us/step - loss: 0.6643\n",
      "Epoch 39/40\n",
      "891/891 [==============================] - 0s 58us/step - loss: 0.6630\n",
      "Epoch 40/40\n",
      "891/891 [==============================] - 0s 40us/step - loss: 0.6627\n"
     ]
    },
    {
     "data": {
      "text/plain": [
       "<keras.callbacks.History at 0x7fbbc8f30a58>"
      ]
     },
     "execution_count": 4,
     "metadata": {},
     "output_type": "execute_result"
    }
   ],
   "source": [
    "classifier.fit(train_x, train_y, batch_size = 100,epochs = 40)"
   ]
  },
  {
   "cell_type": "code",
   "execution_count": 5,
   "metadata": {},
   "outputs": [],
   "source": [
    "test_x = test[[\"PassengerId\",\"Pclass\",\"Age\",\"SibSp\",\"Parch\",\"Fare\"]][0:]\n",
    "\n",
    "test_x = test_x.fillna(0).values"
   ]
  },
  {
   "cell_type": "code",
   "execution_count": 6,
   "metadata": {},
   "outputs": [
    {
     "data": {
      "text/plain": [
       "array([[0.38676223],\n",
       "       [0.38676223],\n",
       "       [0.38676223],\n",
       "       [0.38676223],\n",
       "       [0.38676223],\n",
       "       [0.38676223],\n",
       "       [0.38676223],\n",
       "       [0.38676223],\n",
       "       [0.38676223],\n",
       "       [0.38676223],\n",
       "       [0.38676223],\n",
       "       [0.38676223],\n",
       "       [0.38676223],\n",
       "       [0.38676223],\n",
       "       [0.38676223]], dtype=float32)"
      ]
     },
     "execution_count": 6,
     "metadata": {},
     "output_type": "execute_result"
    }
   ],
   "source": [
    "y_predict = classifier.predict(test_x)#train_x[0:10])\n",
    "y_predict[0:15]"
   ]
  },
  {
   "cell_type": "code",
   "execution_count": 7,
   "metadata": {},
   "outputs": [
    {
     "data": {
      "text/plain": [
       "array([[1.],\n",
       "       [1.],\n",
       "       [1.],\n",
       "       [1.],\n",
       "       [1.],\n",
       "       [1.],\n",
       "       [1.],\n",
       "       [1.],\n",
       "       [1.],\n",
       "       [1.],\n",
       "       [1.],\n",
       "       [1.],\n",
       "       [1.],\n",
       "       [1.],\n",
       "       [1.]], dtype=float32)"
      ]
     },
     "execution_count": 7,
     "metadata": {},
     "output_type": "execute_result"
    }
   ],
   "source": [
    "# type(y_predict)\n",
    "\n",
    "for i, y in enumerate(y_predict):\n",
    "    y_predict.flat[i] = 1 if y_predict.flat[i] >= 0.27 else 0\n",
    "\n",
    "y_predict[0:15]"
   ]
  },
  {
   "cell_type": "code",
   "execution_count": 8,
   "metadata": {},
   "outputs": [],
   "source": [
    "resultArray = numpy.append(numpy.array(test[[\"PassengerId\"]][0:].values), numpy.array(y_predict[0:]), axis=1)\n",
    "\n",
    "resultArray = resultArray.astype(int, copy=True)\n",
    "# type(resultArray)\n",
    "# resultArray\n",
    "# numpy.savetxt('result.csv', resultArray, fmt=\"%d\", header=\"PassengerId, Survived\", delimiter=\",\")"
   ]
  },
  {
   "cell_type": "code",
   "execution_count": null,
   "metadata": {},
   "outputs": [],
   "source": []
  }
 ],
 "metadata": {
  "file_extension": ".py",
  "kernelspec": {
   "display_name": "Python 3",
   "language": "python",
   "name": "python3"
  },
  "language_info": {
   "codemirror_mode": {
    "name": "ipython",
    "version": 3
   },
   "file_extension": ".py",
   "mimetype": "text/x-python",
   "name": "python",
   "nbconvert_exporter": "python",
   "pygments_lexer": "ipython3",
   "version": "3.7.3"
  },
  "mimetype": "text/x-python",
  "name": "python",
  "npconvert_exporter": "python",
  "pygments_lexer": "ipython3",
  "version": 3
 },
 "nbformat": 4,
 "nbformat_minor": 2
}
